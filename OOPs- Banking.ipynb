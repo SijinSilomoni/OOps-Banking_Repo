{
 "cells": [
  {
   "cell_type": "code",
   "execution_count": 13,
   "id": "071337b3-db23-4d51-9000-10a7bb10e06d",
   "metadata": {},
   "outputs": [
    {
     "name": "stdin",
     "output_type": "stream",
     "text": [
      "Enter Account Number to Create:  12345\n",
      "Set your Password:  123\n"
     ]
    },
    {
     "name": "stdout",
     "output_type": "stream",
     "text": [
      "\n",
      "-------------- Login ---------------\n"
     ]
    },
    {
     "name": "stdin",
     "output_type": "stream",
     "text": [
      "Enter Your Account Number:  12345\n",
      "Enter Your Password:  123\n"
     ]
    },
    {
     "name": "stdout",
     "output_type": "stream",
     "text": [
      "Login Successful!\n",
      "\n",
      "**************************************\n",
      "\n",
      "1. Deposit\n",
      "2. Withdraw\n",
      "3. Check Balance\n",
      "4. Exit\n"
     ]
    },
    {
     "name": "stdin",
     "output_type": "stream",
     "text": [
      "Enter Your Choice:  1\n",
      "Enter Deposit Amount:  10000\n"
     ]
    },
    {
     "name": "stdout",
     "output_type": "stream",
     "text": [
      "Deposited: 10000.0. New balance: 10000.0\n",
      "\n",
      "**************************************\n",
      "\n",
      "1. Deposit\n",
      "2. Withdraw\n",
      "3. Check Balance\n",
      "4. Exit\n"
     ]
    },
    {
     "name": "stdin",
     "output_type": "stream",
     "text": [
      "Enter Your Choice:  2\n",
      "Enter Withdrawal Amount:  5000\n"
     ]
    },
    {
     "name": "stdout",
     "output_type": "stream",
     "text": [
      "Withdrawn: 5000.0. New balance: 5000.0\n",
      "\n",
      "**************************************\n",
      "\n",
      "1. Deposit\n",
      "2. Withdraw\n",
      "3. Check Balance\n",
      "4. Exit\n"
     ]
    },
    {
     "name": "stdin",
     "output_type": "stream",
     "text": [
      "Enter Your Choice:  3\n"
     ]
    },
    {
     "name": "stdout",
     "output_type": "stream",
     "text": [
      "Current balance: 5000.0\n",
      "\n",
      "**************************************\n",
      "\n",
      "1. Deposit\n",
      "2. Withdraw\n",
      "3. Check Balance\n",
      "4. Exit\n"
     ]
    },
    {
     "name": "stdin",
     "output_type": "stream",
     "text": [
      "Enter Your Choice:  4\n"
     ]
    },
    {
     "name": "stdout",
     "output_type": "stream",
     "text": [
      "Exiting. Goodbye!!!\n"
     ]
    }
   ],
   "source": [
    "class BankAccount:\n",
    "    def __init__(self, account_number, password, balance=0):\n",
    "        self.account_number = account_number\n",
    "        self.password = password\n",
    "        self.balance = balance\n",
    "\n",
    "    def deposit(self, amount):\n",
    "        self.balance += amount\n",
    "        print(f\"Deposited: {amount}. New balance: {self.balance}\")\n",
    "\n",
    "    def withdraw(self, amount):\n",
    "        if amount <= self.balance:\n",
    "            self.balance -= amount\n",
    "            print(f\"Withdrawn: {amount}. New balance: {self.balance}\")\n",
    "        else:\n",
    "            print(\"Insufficient Balance.\")\n",
    "\n",
    "    def check_balance(self):\n",
    "        print(f\"Current balance: {self.balance}\")\n",
    "\n",
    "def main():\n",
    "    \n",
    "    account_number = input(\"Enter Account Number to Create: \")\n",
    "    password = input(\"Set your Password: \")\n",
    "    account = BankAccount(account_number, password)\n",
    "\n",
    "    print(\"\\n-------------- Login ---------------\")\n",
    "    entered_account_number = input(\"Enter Your Account Number: \")\n",
    "    entered_password = input(\"Enter Your Password: \")\n",
    "\n",
    "    if entered_account_number == account.account_number and entered_password == account.password:\n",
    "        print(\"Login Successful!\")\n",
    "\n",
    "        while True:\n",
    "            print(\"\\n**************************************\")\n",
    "            print(\"\\n1. Deposit\")\n",
    "            print(\"2. Withdraw\")\n",
    "            print(\"3. Check Balance\")\n",
    "            print(\"4. Exit\")\n",
    "\n",
    "            choice = input(\"Enter Your Choice: \")\n",
    "\n",
    "            if choice == '1':\n",
    "                amount = float(input(\"Enter Deposit Amount: \"))\n",
    "                account.deposit(amount)\n",
    "\n",
    "            elif choice == '2':\n",
    "                amount = float(input(\"Enter Withdrawal Amount: \"))\n",
    "                account.withdraw(amount)\n",
    "\n",
    "            elif choice == '3':\n",
    "                account.check_balance()\n",
    "\n",
    "            elif choice == '4':\n",
    "                print(\"Exiting. Goodbye!!!\")\n",
    "                break\n",
    "\n",
    "            else:\n",
    "                print(\"Invalid choice. Try again.\")\n",
    "\n",
    "    else:\n",
    "        print(\"Invalid login credentials.\")\n",
    "\n",
    "if __name__ == \"__main__\":\n",
    "    main()\n"
   ]
  },
  {
   "cell_type": "markdown",
   "id": "9179d628-c62f-4cf2-a141-7c27362e791a",
   "metadata": {},
   "source": []
  }
 ],
 "metadata": {
  "kernelspec": {
   "display_name": "Python 3 (ipykernel)",
   "language": "python",
   "name": "python3"
  },
  "language_info": {
   "codemirror_mode": {
    "name": "ipython",
    "version": 3
   },
   "file_extension": ".py",
   "mimetype": "text/x-python",
   "name": "python",
   "nbconvert_exporter": "python",
   "pygments_lexer": "ipython3",
   "version": "3.12.4"
  }
 },
 "nbformat": 4,
 "nbformat_minor": 5
}
